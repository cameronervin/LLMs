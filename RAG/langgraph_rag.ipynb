{
 "cells": [
  {
   "cell_type": "markdown",
   "metadata": {},
   "source": [
    "# RAG, LangChain, & LangGraph\n",
    "## Overview and Background\n",
    "\n",
    "![LangChain Meme](https://miro.medium.com/v2/resize:fit:1358/1*qpjRJijsQp4XWqtUROHAaw.jpeg)"
   ]
  },
  {
   "cell_type": "markdown",
   "metadata": {},
   "source": [
    "### What is Retrieval-Augmented Generation (RAG)?\n",
    "\n",
    "#### Introduction\n",
    "\n",
    "The Retrieval-Augmented Generation (RAG) framework is a method used in natural language processing that combines retrieval-based and generation-based approaches to improve the quality of generated text.\n",
    "\n",
    "#### Key Components\n",
    "\n",
    "**1. Document Chunking:** The first step in RAG involves breaking down large documents into smaller, manageable chunks. This process is known as chunking. Each chunk should be of a size that can be efficiently processed by the model.\n",
    "\n",
    "**2. Turning Chunks into Vectors:** Once the documents are chunked, each chunk is transformed into a high-dimensional vector. This is typically done using a pre-trained language model that generates embeddings for each chunk. These embeddings capture the semantic meaning of the text.\n",
    "\n",
    "**3. Storing Vectors in a Vector Database:** The generated vectors are then stored in a vector database. Vector databases are specifically designed to handle high-dimensional data and allow for efficient storage, retrieval, and similarity search of vectors. They are well-suited for storing and retrieving the high-dimensional arrays produced during the training of large language models.\n",
    "\n",
    "**4. Query Encoding:** When a query is received, it is also encoded into a vector using the same pre-trained language model. This ensures that the query vector is in the same high-dimensional space as the document vectors.\n",
    "\n",
    "**5. Similarity Search Using Cosine Similarity:** The query vector is then compared to the vectors stored in the vector database to find the most relevant chunks. This comparison is typically done using cosine similarity, which measures the cosine of the angle between two vectors. Cosine similarity is effective in determining the similarity between vectors regardless of their magnitude.\n",
    "\n",
    "**6. Retrieving Relevant Chunks:** Based on the cosine similarity scores, the most relevant chunks are retrieved from the vector database. These chunks are considered to be the most semantically similar to the query.\n",
    "\n",
    "**7. Generating the Final Response:** The retrieved chunks are then used as context for generating the final response. A generative model, such as a transformer-based language model, uses these chunks to produce a coherent and contextually relevant response to the query.\n",
    "\n",
    "##### Diagram of the RAG Process\n",
    "<img src=\"https://developer-blogs.nvidia.com/wp-content/uploads/2024/05/rag-architecture.png\" alt=\"NVIDIA RAG\" width=\"800\" height=\"400\">\n",
    "\n",
    "#### Advantages\n",
    "\n",
    "- **Enhanced Contextual Understanding**: By incorporating relevant external information, RAG models can generate more accurate and contextually appropriate responses.\n",
    "- **Scalability**: The retrieval mechanism allows the model to access a vast amount of information without the need to store all knowledge within the generative model itself.\n",
    "- **Flexibility**: RAG can be applied to various NLP tasks, including question answering, dialogue systems, and summarization.\n",
    "\n",
    "#### Benefits for Businesses\n",
    "\n",
    "- **Tailored Solutions**: RAG enables businesses to customize foundation large language models (LLMs) to their specific needs by integrating domain-specific knowledge. This allows for more relevant and precise responses that align with business requirements.\n",
    "- **Improved Customer Support**: By leveraging RAG, businesses can enhance their customer support systems with accurate and contextually relevant responses, leading to higher customer satisfaction.\n",
    "- **Knowledge Management**: RAG can be used to efficiently manage and utilize large volumes of internal documents, making it easier for employees to access and leverage critical information.\n",
    "- **Cost Efficiency**: By using retrieval mechanisms, businesses can reduce the computational costs associated with training and maintaining large generative models, as the need for extensive fine-tuning is minimized.\n",
    "\n",
    "#### Applications\n",
    "\n",
    "- **Question Answering**: Providing precise answers to user queries by retrieving relevant documents and generating concise responses.\n",
    "- **Dialogue Systems**: Enhancing conversational agents by incorporating external knowledge to maintain context and provide informative replies.\n",
    "- **Summarization**: Generating summaries of documents by retrieving key passages and synthesizing them into a coherent summary.\n",
    "\n",
    "#### In Summary\n",
    "\n",
    "RAG represents a powerful approach in the field of NLP, combining the best of retrieval and generation techniques to produce high-quality, contextually aware responses. By leveraging external knowledge sources, RAG models can significantly enhance the performance and applicability of NLP systems across various domains. For businesses, RAG offers the added advantage of tailoring foundation LLM models to meet specific needs, thereby improving efficiency, customer satisfaction, and overall operational effectiveness.\n"
   ]
  },
  {
   "cell_type": "markdown",
   "metadata": {},
   "source": [
    "### LangChain and LangGraph. What are they?\n",
    "\n",
    "#### Introduction\n",
    "\n",
    "LangChain and LangGraph are powerful tools designed to facilitate the integration and implementation of large language models (LLMs) in various applications. These tools provide a programmatic approach, enabling developers to harness the capabilities of LLMs efficiently and effectively.\n",
    "\n",
    "#### LangChain\n",
    "\n",
    "LangChain is a framework designed to facilitate the creation of applications that leverage large language models (LLMs) by enabling the chaining of various LLM components together. This approach allows developers to build complex workflows where the output of one model or process can seamlessly become the input for another, enhancing the overall functionality and efficiency of the application. By creating pipelines, LangChain optimizes the use of LLMs, allowing for more sophisticated and context-aware interactions, improved task automation, and the ability to handle multi-step processes more effectively. This modularity and flexibility are particularly beneficial in scenarios requiring nuanced understanding and generation of language, thereby significantly expanding the potential use cases of generative AI technologies.\n",
    "\n",
    "<img src=\"https://deepsense.ai/wp-content/uploads/2023/10/LangChain-announces-partnership-with-deepsense.jpeg.pagespeed.ce.MqiaQ3ydE_.jpg\" alt=\"LangChain Logo\" width=\"600\" height=\"225\">\n",
    "\n",
    "##### Key Features\n",
    "\n",
    "- **Modular Design**: LangChain's modular architecture allows developers to mix and match different language models and components to create customized NLP workflows.\n",
    "- **Ease of Integration**: LangChain provides easy-to-use APIs that facilitate the integration of various language models, including both open-source and proprietary models.\n",
    "- **Scalability**: The framework is designed to handle large-scale NLP tasks, making it suitable for enterprise-level applications.\n",
    "\n",
    "#### LangGraph\n",
    "\n",
    "##### Overview\n",
    "\n",
    "LangGraph is an advanced framework designed to enhance the capabilities of LangChain by introducing a more structured and flexible way to manage and execute complex workflows involving large language models (LLMs). It allows developers to create and manage graphs of interconnected components, where each node represents a specific task or function, and the edges define the data flow between these tasks.\n",
    "\n",
    "\n",
    "\n",
    "##### Advancements with LangGraph:\n",
    "\n",
    "**1. Structured Workflow Management:** LangGraph provides a more organized approach to building workflows. By representing tasks as nodes in a graph, it allows for better visualization and management of complex processes, making it easier to understand and debug.\n",
    "\n",
    "**2. Enhanced Flexibility:** The graph-based structure enables more flexible and dynamic workflows. Developers can easily add, remove, or modify nodes and edges to adapt to changing requirements without having to rewrite the entire pipeline.\n",
    "\n",
    "**3. Parallel Processing:** LangGraph supports parallel execution of tasks, which can significantly speed up processing times for workflows that can be decomposed into independent tasks.\n",
    "\n",
    "**4. Improved Modularity:** By breaking down workflows into discrete, reusable components, LangGraph promotes modularity. This makes it easier to develop, test, and maintain individual parts of the workflow.\n",
    "\n",
    "**5. Use of Agents:** LangGraph integrates the concept of agents, which are autonomous entities that can perform specific tasks within the workflow. Agents can reason about how to fulfill a request, plan the necessary steps, and execute the plan. This capability allows for more intelligent and autonomous operations, reducing the need for manual intervention.\n",
    "\n",
    "![LangGraph Diagram](https://blog.langchain.dev/content/images/size/w1000/2024/01/Screenshot-2023-11-27-at-8.22.59-PM-1.webp)\n",
    "\n",
    "#### Conclusion\n",
    "\n",
    "LangChain and LangGraph offer powerful tools for developers looking to implement and manage large language models programmatically. By providing modular, scalable, and easy-to-use frameworks, these tools enable the creation of sophisticated NLP solutions tailored to specific business needs. Whether for custom applications, research, or enterprise use, LangChain and LangGraph empower developers to harness the full potential of LLMs efficiently and effectively.\n"
   ]
  },
  {
   "cell_type": "markdown",
   "metadata": {},
   "source": [
    "## Now, It Is Time to Implement RAG, LangChain, & LangGraph\n",
    "\n",
    "### Defining our Problem\n",
    "Today, we will be creating a MultiAgent LangGraph system that can achieve the following:\n",
    "1) Take a specific ML research paper\n",
    "2) Analyze the contents of the paper\n",
    "3) Perform further research when necessary on specific topics within the paper\n",
    "4) Write a response to a user's prompt given the information in the paper and the information found during research\n",
    "\n",
    "\n",
    "Some other important notes:\n",
    "- There will be two different MultiAgent teams with an overall supervisor - a research team and a writing team. Each team will have a supervisor which dictates what actions to take. There will also be a supervisor overseeing the entire process. \n",
    "\n",
    "- On the research team there will be two agents: a search agent utilizing [Tavily](https://tavily.com/), a search engine for AI agents, and a document search agent searching for information in the document.\n",
    "\n",
    "- On the writing team there will be three agents: a writer writing the final content, a note taker compiling information, and a copy editor agent that fixes grammar, puncuation, etc.\n",
    "\n",
    "- Each agent will have various tools at their disposal to achieve their roles.\n",
    "\n",
    "- Each supervisor will oversee their respective team, and the head supervisor will oversee the entire process.\n",
    "\n",
    "- Additionally, each team is its own separate LangGraph. There will be a complete LangGraph that connects the writing and researching graphs as nodes.\n",
    "\n",
    "The layout of the total system is as follows:\n",
    "\n",
    "![image.png](https://github.com/cameronervin/LLMs/blob/main/RAG/mutliagent_system.png?raw=true)\n",
    "\n",
    "### Now, Let's jump into the code"
   ]
  },
  {
   "cell_type": "markdown",
   "metadata": {},
   "source": [
    "Installing the necessary imports"
   ]
  },
  {
   "cell_type": "code",
   "execution_count": 1,
   "metadata": {},
   "outputs": [],
   "source": [
    "import os\n",
    "import getpass\n",
    "import tiktoken\n",
    "from operator import itemgetter\n",
    "import operator\n",
    "import functools\n",
    "from typing import Any, Callable, List, Optional, TypedDict, Union, Annotated\n",
    "from pathlib import Path\n",
    "from tempfile import TemporaryDirectory\n",
    "from typing import Dict, Optional\n",
    "from typing_extensions import TypedDict\n",
    "from IPython.display import Image, display, Markdown\n",
    "\n",
    "from langchain.document_loaders import PyMuPDFLoader\n",
    "from langchain.text_splitter import RecursiveCharacterTextSplitter\n",
    "from langchain_openai.embeddings import OpenAIEmbeddings\n",
    "from langchain_community.vectorstores import Qdrant\n",
    "from langchain_core.prompts import ChatPromptTemplate\n",
    "from langchain_openai import ChatOpenAI\n",
    "from langchain.schema.output_parser import StrOutputParser\n",
    "from langchain.agents import AgentExecutor, create_openai_functions_agent\n",
    "from langchain.output_parsers.openai_functions import JsonOutputFunctionsParser\n",
    "from langchain_core.prompts import ChatPromptTemplate, MessagesPlaceholder\n",
    "from langchain_core.messages import AIMessage, BaseMessage, HumanMessage\n",
    "from langchain_core.runnables import Runnable\n",
    "from langchain_core.tools import BaseTool\n",
    "from langchain_community.tools.tavily_search import TavilySearchResults\n",
    "from langchain_core.tools import tool\n",
    "from langgraph.graph import END, StateGraph\n",
    "\n",
    "os.environ[\"OPENAI_API_KEY\"] = getpass.getpass(\"OPENAI_API_KEY\")\n",
    "os.environ[\"TAVILY_API_KEY\"] = getpass.getpass(\"TAVILY_API_KEY\")\n",
    "\n",
    "NEW_ENV = False\n",
    "\n",
    "if NEW_ENV:\n",
    "    %pip install --quiet langchain langchain-community langchain-openai langgraph sqlglot langchain-experimental python-mermaid\n",
    "    %pip install -qU --disable-pip-version-check qdrant-client pymupdf tiktoken"
   ]
  },
  {
   "cell_type": "markdown",
   "metadata": {},
   "source": [
    "Let's find our documents to retrieve from. We will use the paper \" Retrieval-Augmented Generation for Knowledge-Intensive NLP Tasks\" (Lewis et. al.). You can find this paper following the [link](https://arxiv.org/pdf/2005.11401)."
   ]
  },
  {
   "cell_type": "code",
   "execution_count": 2,
   "metadata": {},
   "outputs": [],
   "source": [
    "# initialize the PyMuPDFLoader with the URL of the PDF document\n",
    "docs = PyMuPDFLoader(\"https://arxiv.org/pdf/2005.11401\").load()"
   ]
  },
  {
   "cell_type": "markdown",
   "metadata": {},
   "source": [
    "Now, lets tokenize and chunk our paper given we will use ChatGPT 3.5 formatting for encoding."
   ]
  },
  {
   "cell_type": "code",
   "execution_count": 3,
   "metadata": {},
   "outputs": [],
   "source": [
    "def tiktoken_len(text):\n",
    "    # encode the text using the tiktoken library for the \"gpt-3.5-turbo\" model\n",
    "    tokens = tiktoken.encoding_for_model(\"gpt-3.5-turbo\").encode(text)\n",
    "    # return the number of tokens\n",
    "    return len(tokens)\n",
    "\n",
    "# initialize the RecursiveCharacterTextSplitter with specified parameters\n",
    "text_splitter = RecursiveCharacterTextSplitter(\n",
    "    chunk_size=300,            # maximum size of each chunk\n",
    "    chunk_overlap=0,           # no overlap between chunks\n",
    "    length_function=tiktoken_len,  # function to determine the length of text\n",
    ")\n",
    "\n",
    "# split the loaded documents into chunks based on the specified chunk size and length function\n",
    "split_chunks = text_splitter.split_documents(docs)"
   ]
  },
  {
   "cell_type": "markdown",
   "metadata": {},
   "source": [
    "Next, lets take our chunked and tokenized paper and embed them to our vector database using QDrant. QDrant is a vector database designed for AI applications. More information can be found [here](https://qdrant.tech/)."
   ]
  },
  {
   "cell_type": "code",
   "execution_count": 4,
   "metadata": {},
   "outputs": [],
   "source": [
    "# creating our embedding model using OpenAI text-embedding-3-small\n",
    "embedding_model = OpenAIEmbeddings(model=\"text-embedding-3-small\")\n",
    "\n",
    "# creating our QDrant backed vector store\n",
    "qdrant_vectorstore = Qdrant.from_documents(\n",
    "    split_chunks,                  # the document chunks to be stored\n",
    "    embedding_model,               # the embedding model to convert text to vectors\n",
    "    location=\":memory:\",           # store the vector data in memory\n",
    "    collection_name=\"extending_context_window_llama_3\",  # name of the collection\n",
    ")\n",
    "\n",
    "# to use later as a retriever\n",
    "qdrant_retriever = qdrant_vectorstore.as_retriever()"
   ]
  },
  {
   "cell_type": "markdown",
   "metadata": {},
   "source": [
    "Implementing a simple LangChain RAG chain as an example."
   ]
  },
  {
   "cell_type": "code",
   "execution_count": 5,
   "metadata": {},
   "outputs": [
    {
     "data": {
      "text/plain": [
       "'RAG stands for Retrieval-Augmented Generation, as mentioned in the provided context.'"
      ]
     },
     "execution_count": 5,
     "metadata": {},
     "output_type": "execute_result"
    }
   ],
   "source": [
    "# defining the prompt template for retrieval-augmented generation (RAG)\n",
    "RAG_PROMPT = \"\"\"\n",
    "context:\n",
    "{context}\n",
    "\n",
    "query:\n",
    "{question}\n",
    "\n",
    "you are a helpful assistant. use the available context to answer the question. if you can't answer the question, say you don't know.\n",
    "\"\"\"\n",
    "\n",
    "# creating a ChatPromptTemplate from the RAG prompt template\n",
    "rag_prompt = ChatPromptTemplate.from_template(RAG_PROMPT)\n",
    "\n",
    "# initializing the OpenAI chat model using gpt-3.5-turbo\n",
    "openai_chat_model = ChatOpenAI(model=\"gpt-3.5-turbo\")\n",
    "\n",
    "# defining the RAG chain\n",
    "rag_chain = (\n",
    "    {\"context\": itemgetter(\"question\") | qdrant_retriever, \"question\": itemgetter(\"question\")}\n",
    "    | rag_prompt | openai_chat_model | StrOutputParser()\n",
    ")\n",
    "\n",
    "# invoking the RAG chain with a sample question\n",
    "rag_chain.invoke({\"question\": \"What does RAG stand for?\"})\n"
   ]
  },
  {
   "cell_type": "markdown",
   "metadata": {},
   "source": [
    "### Implementing LangGraph and Our System"
   ]
  },
  {
   "cell_type": "code",
   "execution_count": 6,
   "metadata": {},
   "outputs": [],
   "source": [
    "# function to create our agent nodes\n",
    "def agent_node(state, agent, name):\n",
    "    # invoke the agent with the given state and get the result\n",
    "    result = agent.invoke(state)\n",
    "    # return a dictionary with the result wrapped in a HumanMessage\n",
    "    return {\"messages\": [HumanMessage(content=result[\"output\"], name=name)]}\n",
    "\n",
    "# function to create our agents\n",
    "def create_agent(\n",
    "    llm: ChatOpenAI,\n",
    "    tools: list,\n",
    "    system_prompt: str,\n",
    ") -> str:\n",
    "    \"\"\"Create a function-calling agent and add it to the graph.\"\"\"\n",
    "    # append additional instructions to the system prompt\n",
    "    system_prompt += \"\\nWork autonomously according to your specialty, using the tools available to you.\"\n",
    "    \" Do not ask for clarification.\"\n",
    "    \" Your other team members (and other teams) will collaborate with you with their own specialties.\"\n",
    "    \" You are chosen for a reason! You are one of the following team members: {team_members}.\"\n",
    "    \n",
    "    # create a prompt template from the system prompt and placeholders for messages and agent scratchpad\n",
    "    prompt = ChatPromptTemplate.from_messages(\n",
    "        [\n",
    "            (\"system\", system_prompt),\n",
    "            MessagesPlaceholder(variable_name=\"messages\"),\n",
    "            MessagesPlaceholder(variable_name=\"agent_scratchpad\"),\n",
    "        ]\n",
    "    )\n",
    "    \n",
    "    # create an OpenAI functions agent with the given llm, tools, and prompt\n",
    "    agent = create_openai_functions_agent(llm, tools, prompt)\n",
    "    \n",
    "    # create an agent executor with the agent and tools\n",
    "    executor = AgentExecutor(agent=agent, tools=tools)\n",
    "    \n",
    "    # return the executor\n",
    "    return executor\n",
    "\n",
    "# function to create our team advisor\n",
    "def create_team_supervisor(llm: ChatOpenAI, system_prompt, members) -> str:\n",
    "    \"\"\"An LLM-based router.\"\"\"\n",
    "    # define the options for the next role, including \"FINISH\"\n",
    "    options = [\"FINISH\"] + members\n",
    "    \n",
    "    # define the function schema for routing\n",
    "    function_def = {\n",
    "        \"name\": \"route\",\n",
    "        \"description\": \"Select the next role.\",\n",
    "        \"parameters\": {\n",
    "            \"title\": \"routeSchema\",\n",
    "            \"type\": \"object\",\n",
    "            \"properties\": {\n",
    "                \"next\": {\n",
    "                    \"title\": \"Next\",\n",
    "                    \"anyOf\": [\n",
    "                        {\"enum\": options},\n",
    "                    ],\n",
    "                },\n",
    "            },\n",
    "            \"required\": [\"next\"],\n",
    "        },\n",
    "    }\n",
    "    \n",
    "    # create a prompt template from the system prompt and placeholders for messages\n",
    "    prompt = ChatPromptTemplate.from_messages(\n",
    "        [\n",
    "            (\"system\", system_prompt),\n",
    "            MessagesPlaceholder(variable_name=\"messages\"),\n",
    "            (\n",
    "                \"system\",\n",
    "                \"Given the conversation above, who should act next?\"\n",
    "                \" Or should we FINISH? Select one of: {options}\",\n",
    "            ),\n",
    "        ]\n",
    "    ).partial(options=str(options), team_members=\", \".join(members))\n",
    "    \n",
    "    # bind the routing function to the llm and return the resulting chain\n",
    "    return (\n",
    "        prompt\n",
    "        | llm.bind_functions(functions=[function_def], function_call=\"route\")\n",
    "        | JsonOutputFunctionsParser()\n",
    "    )"
   ]
  },
  {
   "cell_type": "markdown",
   "metadata": {},
   "source": [
    "Defining tools for our research agents to use"
   ]
  },
  {
   "cell_type": "code",
   "execution_count": 7,
   "metadata": {},
   "outputs": [],
   "source": [
    "# travity search tool\n",
    "tavily_tool = TavilySearchResults(max_results=5)\n",
    "\n",
    "# tool to retrieve information on our RAG paper\n",
    "@tool\n",
    "def retrieve_information(\n",
    "    query: Annotated[str, \"query to ask the retrieve information tool\"]\n",
    "    ):\n",
    "  \"\"\"Use Retrieval Augmented Generation to retrieve information about the 'Retrieval-Augmented Generation for\n",
    "Knowledge-Intensive NLP Tasks' paper.\"\"\"\n",
    "  # invoke the RAG chain with the given query and return the result\n",
    "  return rag_chain.invoke({\"question\" : query})"
   ]
  },
  {
   "cell_type": "markdown",
   "metadata": {},
   "source": [
    "Creating our research team:"
   ]
  },
  {
   "cell_type": "code",
   "execution_count": 8,
   "metadata": {},
   "outputs": [
    {
     "name": "stderr",
     "output_type": "stream",
     "text": [
      "C:\\Users\\camcameron\\AppData\\Local\\Temp\\ipykernel_30548\\3137294941.py:80: LangChainDeprecationWarning: The method `BaseChatOpenAI.bind_functions` was deprecated in langchain-openai 0.2.1 and will be removed in 0.3.0. Use :meth:`~langchain_openai.chat_models.base.ChatOpenAI.bind_tools` instead.\n",
      "  | llm.bind_functions(functions=[function_def], function_call=\"route\")\n"
     ]
    }
   ],
   "source": [
    "# research team state class\n",
    "class ResearchTeamState(TypedDict):\n",
    "    messages: Annotated[List[BaseMessage], operator.add]\n",
    "    team_members: List[str]\n",
    "    next: str\n",
    "\n",
    "# defining which llm we will use\n",
    "llm = ChatOpenAI(model=\"gpt-4-1106-preview\")\n",
    "\n",
    "# creating our different research team agents and nodes\n",
    "\n",
    "# the search_agent uses Tavily, a search engine for AI agents\n",
    "search_agent = create_agent(\n",
    "    llm,\n",
    "    [tavily_tool],\n",
    "    \"You are a research assistant who can search for up-to-date info using the tavily search engine.\",\n",
    ")\n",
    "search_node = functools.partial(agent_node, agent=search_agent, name=\"Search\")\n",
    "\n",
    "research_agent = create_agent(\n",
    "    llm,\n",
    "    [retrieve_information],\n",
    "    \"You are a research assistant who can provide specific information on the provided paper: 'Retrieval-Augmented Generation for Knowledge-Intensive NLP Tasks'\",\n",
    ")\n",
    "research_node = functools.partial(agent_node, agent=research_agent, name=\"PaperInformationRetriever\")\n",
    "\n",
    "supervisor_agent = create_team_supervisor(\n",
    "    llm,\n",
    "    \"You are a supervisor tasked with managing a conversation between the\"\n",
    "    \" following workers:  Search, PaperInformationRetriever. Given the following user request,\"\n",
    "    \" respond with the worker to act next. Each worker will perform a\"\n",
    "    \" task and respond with their results and status. When finished,\"\n",
    "    \" respond with FINISH.\",\n",
    "    [\"Search\", \"PaperInformationRetriever\"],\n",
    ")"
   ]
  },
  {
   "cell_type": "markdown",
   "metadata": {},
   "source": [
    "Adding our nodes and edges to our graph"
   ]
  },
  {
   "cell_type": "code",
   "execution_count": 9,
   "metadata": {},
   "outputs": [
    {
     "data": {
      "image/jpeg": "[encoded data removed]",
      "text/plain": [
       "<IPython.core.display.Image object>"
      ]
     },
     "metadata": {},
     "output_type": "display_data"
    }
   ],
   "source": [
    "# create research team graph\n",
    "research_graph = StateGraph(ResearchTeamState)\n",
    "\n",
    "# adding nodes\n",
    "research_graph.add_node(\"Search\", search_node)\n",
    "research_graph.add_node(\"PaperInformationRetriever\", research_node)\n",
    "research_graph.add_node(\"supervisor\", supervisor_agent)\n",
    "\n",
    "# adding edges\n",
    "research_graph.add_edge(\"Search\", \"supervisor\")\n",
    "research_graph.add_edge(\"PaperInformationRetriever\", \"supervisor\")\n",
    "\n",
    "# adding conditional edges\n",
    "research_graph.add_conditional_edges(\n",
    "    \"supervisor\",\n",
    "    lambda x: x[\"next\"],\n",
    "    {\"Search\": \"Search\", \"PaperInformationRetriever\": \"PaperInformationRetriever\", \"FINISH\": END},\n",
    ")\n",
    "\n",
    "# compile graph\n",
    "research_graph.set_entry_point(\"supervisor\")\n",
    "chain = research_graph.compile()\n",
    "\n",
    "# visualize\n",
    "try:\n",
    "    display(Image(chain.get_graph(xray=True).draw_mermaid_png()))\n",
    "except:\n",
    "    pass\n"
   ]
  },
  {
   "cell_type": "markdown",
   "metadata": {},
   "source": [
    "Creating an LCEL chain wrapper for our LangGraph. An LCEL or LangChain Expression Language is a way to compose chains together."
   ]
  },
  {
   "cell_type": "code",
   "execution_count": 10,
   "metadata": {},
   "outputs": [
    {
     "data": {
      "text/plain": [
       "{'messages': [HumanMessage(content=\"What are the main takeaways from the paper `Retrieval-Augmented Generation for Knowledge-Intensive NLP Tasks'? Please use Search and PaperInformationRetriever!\", additional_kwargs={}, response_metadata={}),\n",
       "  HumanMessage(content='The paper \"Retrieval-Augmented Generation for Knowledge-Intensive NLP Tasks\" presents a study on Retrieval-Augmented Generation (RAG) models which combine pre-trained parametric (e.g., sequence-to-sequence models) and non-parametric (e.g., a dense vector index of Wikipedia) memory for language generation tasks. Here are the main takeaways from the paper:\\n\\n1. RAG models have been shown to store factual knowledge in their parameters and achieve state-of-the-art results when fine-tuned on downstream NLP tasks, particularly in knowledge-intensive areas.\\n\\n2. The authors fine-tuned and evaluated their models on a wide range of knowledge-intensive NLP tasks, including three open-domain QA tasks, where they outperformed parametric sequence-to-sequence models and task-specific retrieve-and-extract architectures.\\n\\n3. RAG models consist of a pre-trained sequence-to-sequence model as the parametric memory and a dense vector index of Wikipedia as the non-parametric memory, which is accessed with a pre-trained neural retriever.\\n\\n4. The results from using RAG models for language generation tasks show that these models generate more specific, diverse, and factual language than a state-of-the-art parametric-only sequence-to-sequence baseline.\\n\\n5. Moreover, the non-parametric memory can be replaced to update the models\\' knowledge as the world changes, making RAG models adaptable to new information.\\n\\n6. The paper provides a general-purpose fine-tuning recipe for retrieval-augmented generation, implying broad applicability to various NLP tasks.\\n\\n7. The work sets a new benchmark in the field and provides a pathway for future research in combining retrieval methods with language generation to enhance NLP systems.\\n\\nThe paper is authored by Patrick Lewis, Ethan Perez, Aleksandra Piktus, Fabio Petroni, Vladimir Karpukhin, Naman Goyal, Heinrich Küttler, Mike Lewis, Wen-tau Yih, Tim Rocktäschel, Sebastian Riedel, and Douwe Kiela, primarily from Facebook AI Research and University College London. It was part of the Advances in Neural Information Processing Systems 33 (NeurIPS 2020).', additional_kwargs={}, response_metadata={}, name='Search')],\n",
       " 'next': 'FINISH'}"
      ]
     },
     "execution_count": 10,
     "metadata": {},
     "output_type": "execute_result"
    }
   ],
   "source": [
    "def enter_chain(message: str):\n",
    "    # create a dictionary with the message wrapped in a HumanMessage\n",
    "    results = {\n",
    "        \"messages\": [HumanMessage(content=message)],\n",
    "    }\n",
    "    # return the results dictionary\n",
    "    return results\n",
    "\n",
    "# combine the enter_chain function with the compiled research chain\n",
    "research_chain = enter_chain | chain\n",
    "\n",
    "# invoke the research chain with a query\n",
    "research_chain.invoke(\"What are the main takeaways from the paper `Retrieval-Augmented Generation for Knowledge-Intensive NLP Tasks'? Please use Search and PaperInformationRetriever!\")\n"
   ]
  },
  {
   "cell_type": "markdown",
   "metadata": {},
   "source": [
    "Defining tools for our writing agents to use"
   ]
  },
  {
   "cell_type": "code",
   "execution_count": 11,
   "metadata": {},
   "outputs": [],
   "source": [
    "# defining a temporary directory our agents can write to\n",
    "_TEMP_DIRECTORY = TemporaryDirectory()\n",
    "WORKING_DIRECTORY = Path(_TEMP_DIRECTORY.name)\n",
    "\n",
    "# defining agent tools\n",
    "@tool\n",
    "def create_outline(\n",
    "    points: Annotated[List[str], \"List of main points or sections.\"],\n",
    "    file_name: Annotated[str, \"File path to save the outline.\"],\n",
    ") -> Annotated[str, \"Path of the saved outline file.\"]:\n",
    "    \"\"\"Create and save an outline.\"\"\"\n",
    "    # open the file in write mode within the working directory\n",
    "    with (WORKING_DIRECTORY / file_name).open(\"w\") as file:\n",
    "        # write each point to the file, prefixed with its index\n",
    "        for i, point in enumerate(points):\n",
    "            file.write(f\"{i + 1}. {point}\\n\")\n",
    "    # return the path of the saved outline file\n",
    "    return f\"Outline saved to {file_name}\"\n",
    "\n",
    "@tool\n",
    "def read_document(\n",
    "    file_name: Annotated[str, \"File path to save the document.\"],\n",
    "    start: Annotated[Optional[int], \"The start line. Default is 0\"] = None,\n",
    "    end: Annotated[Optional[int], \"The end line. Default is None\"] = None,\n",
    ") -> str:\n",
    "    \"\"\"Read the specified document.\"\"\"\n",
    "    # open the file in read mode within the working directory\n",
    "    with (WORKING_DIRECTORY / file_name).open(\"r\") as file:\n",
    "        lines = file.readlines()\n",
    "    # set start to 0 if not provided\n",
    "    if start is not None:\n",
    "        start = 0\n",
    "    # join the lines from start to end and return as a string\n",
    "    return \"\\n\".join(lines[start:end])\n",
    "\n",
    "@tool\n",
    "def write_document(\n",
    "    content: Annotated[str, \"Text content to be written into the document.\"],\n",
    "    file_name: Annotated[str, \"File path to save the document.\"],\n",
    ") -> Annotated[str, \"Path of the saved document file.\"]:\n",
    "    \"\"\"Create and save a text document.\"\"\"\n",
    "    # open the file in write mode within the working directory\n",
    "    with (WORKING_DIRECTORY / file_name).open(\"w\") as file:\n",
    "        # write the content to the file\n",
    "        file.write(content)\n",
    "    # return the path of the saved document file\n",
    "    return f\"Document saved to {file_name}\"\n",
    "\n",
    "@tool\n",
    "def edit_document(\n",
    "    file_name: Annotated[str, \"Path of the document to be edited.\"],\n",
    "    inserts: Annotated[\n",
    "        Dict[int, str],\n",
    "        \"Dictionary where key is the line number (1-indexed) and value is the text to be inserted at that line.\",\n",
    "    ],\n",
    ") -> Annotated[str, \"Path of the edited document file.\"]:\n",
    "    \"\"\"Edit a document by inserting text at specific line numbers.\"\"\"\n",
    "    # open the file in read mode within the working directory\n",
    "    with (WORKING_DIRECTORY / file_name).open(\"r\") as file:\n",
    "        lines = file.readlines()\n",
    "\n",
    "    # sort the inserts by line number\n",
    "    sorted_inserts = sorted(inserts.items())\n",
    "\n",
    "    # insert the text at the specified line numbers\n",
    "    for line_number, text in sorted_inserts:\n",
    "        if 1 <= line_number <= len(lines) + 1:\n",
    "            lines.insert(line_number - 1, text + \"\\n\")\n",
    "        else:\n",
    "            return f\"Error: Line number {line_number} is out of range.\"\n",
    "\n",
    "    # open the file in write mode within the working directory\n",
    "    with (WORKING_DIRECTORY / file_name).open(\"w\") as file:\n",
    "        file.writelines(lines)\n",
    "\n",
    "    # return the path of the edited document file\n",
    "    return f\"Document edited and saved to {file_name}\"\n"
   ]
  },
  {
   "cell_type": "markdown",
   "metadata": {},
   "source": [
    "Creating our writing team:"
   ]
  },
  {
   "cell_type": "code",
   "execution_count": 12,
   "metadata": {},
   "outputs": [],
   "source": [
    "# writing team state class\n",
    "class DocWritingState(TypedDict):\n",
    "    messages: Annotated[List[BaseMessage], operator.add]\n",
    "    team_members: str\n",
    "    next: str\n",
    "    current_files: str\n",
    "\n",
    "# helper function to make sure working dir is formatted correctly\n",
    "def prelude(state):\n",
    "    written_files = []\n",
    "    if not WORKING_DIRECTORY.exists():\n",
    "        WORKING_DIRECTORY.mkdir()\n",
    "    try:\n",
    "        written_files = [\n",
    "            f.relative_to(WORKING_DIRECTORY) for f in WORKING_DIRECTORY.rglob(\"*\")\n",
    "        ]\n",
    "    except:\n",
    "        pass\n",
    "    if not written_files:\n",
    "        return {**state, \"current_files\": \"No files written.\"}\n",
    "    return {\n",
    "        **state,\n",
    "        \"current_files\": \"\\nBelow are files your team has written to the directory:\\n\"\n",
    "        + \"\\n\".join([f\" - {f}\" for f in written_files]),\n",
    "    }\n",
    "\n",
    "# creating our different writing team agents and nodes\n",
    "doc_writer_agent = create_agent(\n",
    "    llm,\n",
    "    [write_document, edit_document, read_document],\n",
    "    \"You are an expert writing a research document.\\n\"\n",
    "    \"Below are files currently in your directory:\\n{current_files}\",\n",
    ")\n",
    "context_aware_doc_writer_agent = prelude | doc_writer_agent\n",
    "doc_writing_node = functools.partial(\n",
    "    agent_node, agent=context_aware_doc_writer_agent, name=\"DocWriter\"\n",
    ")\n",
    "\n",
    "note_taking_agent = create_agent(\n",
    "    llm,\n",
    "    [create_outline, read_document],\n",
    "    \"You are an expert senior researcher tasked with writing a blog outline and\"\n",
    "    \" taking notes to craft a blog.{current_files}\",\n",
    ")\n",
    "context_aware_note_taking_agent = prelude | note_taking_agent\n",
    "note_taking_node = functools.partial(\n",
    "    agent_node, agent=context_aware_note_taking_agent, name=\"NoteTaker\"\n",
    ")\n",
    "\n",
    "copy_editor_agent = create_agent(\n",
    "    llm,\n",
    "    [write_document, edit_document, read_document],\n",
    "    \"You are an expert copy editor who focuses on fixing grammar, spelling, and tone issues\\n\"\n",
    "    \"Below are files currently in your directory:\\n{current_files}\",\n",
    ")\n",
    "context_aware_copy_editor_agent = prelude | copy_editor_agent\n",
    "copy_editing_node = functools.partial(\n",
    "    agent_node, agent=context_aware_copy_editor_agent, name=\"CopyEditor\"\n",
    ")\n",
    "\n",
    "_agent = create_agent(\n",
    "    llm,\n",
    "    [create_outline, read_document],\n",
    "    \"You are an expert senior researcher tasked with writing a paper outline and\"\n",
    "    \" taking notes to craft a perfect paper.{current_files}\",\n",
    ")\n",
    "context_aware_note_taking_agent = prelude | note_taking_agent\n",
    "\n",
    "doc_writing_supervisor = create_team_supervisor(\n",
    "    llm,\n",
    "    \"You are a supervisor tasked with managing a conversation between the\"\n",
    "    \" following workers:  {team_members}. Given the following user request,\"\n",
    "    \" respond with the worker to act next. Each worker will perform a\"\n",
    "    \" task and respond with their results and status. When finished,\"\n",
    "    \" respond with FINISH.\",\n",
    "    [\"DocWriter\", \"NoteTaker\", \"ChartGenerator\"],\n",
    ")"
   ]
  },
  {
   "cell_type": "markdown",
   "metadata": {},
   "source": [
    "Adding our nodes and edges to our graph"
   ]
  },
  {
   "cell_type": "code",
   "execution_count": 13,
   "metadata": {},
   "outputs": [
    {
     "data": {
      "image/jpeg": "[encoded data removed]",
      "text/plain": [
       "<IPython.core.display.Image object>"
      ]
     },
     "metadata": {},
     "output_type": "display_data"
    }
   ],
   "source": [
    "# create writing team graph\n",
    "authoring_graph = StateGraph(DocWritingState)\n",
    "\n",
    "# adding nodes\n",
    "authoring_graph.add_node(\"DocWriter\", doc_writing_node)\n",
    "authoring_graph.add_node(\"NoteTaker\", note_taking_node)\n",
    "authoring_graph.add_node(\"CopyEditor\", copy_editing_node)\n",
    "authoring_graph.add_node(\"supervisor\", doc_writing_supervisor)\n",
    "\n",
    "# adding edges\n",
    "authoring_graph.add_edge(\"DocWriter\", \"supervisor\")\n",
    "authoring_graph.add_edge(\"NoteTaker\", \"supervisor\")\n",
    "authoring_graph.add_edge(\"CopyEditor\", \"supervisor\")\n",
    "\n",
    "# adding conditional edges\n",
    "authoring_graph.add_conditional_edges(\n",
    "    \"supervisor\",\n",
    "    lambda x: x[\"next\"],\n",
    "    {\n",
    "        \"DocWriter\": \"DocWriter\",\n",
    "        \"NoteTaker\": \"NoteTaker\",\n",
    "        \"CopyEditor\" : \"CopyEditor\",\n",
    "        \"FINISH\": END,\n",
    "    },\n",
    ")\n",
    "\n",
    "# compile graph\n",
    "authoring_graph.set_entry_point(\"supervisor\")\n",
    "chain = authoring_graph.compile()\n",
    "\n",
    "# visualize\n",
    "try:\n",
    "    display(Image(chain.get_graph(xray=True).draw_mermaid_png()))\n",
    "except:\n",
    "    pass"
   ]
  },
  {
   "cell_type": "markdown",
   "metadata": {},
   "source": [
    "Creating another wrapper for writing chain"
   ]
  },
  {
   "cell_type": "code",
   "execution_count": 14,
   "metadata": {},
   "outputs": [
    {
     "data": {
      "text/plain": [
       "{'messages': [HumanMessage(content='Write an outline for a short technical blog on LLMs and write it to disk.', additional_kwargs={}, response_metadata={}),\n",
       "  HumanMessage(content='The outline for a short technical blog on Large Language Models (LLMs) has been written and saved to disk with the file name \"Understanding_Large_Language_Models_Blog_Outline.txt\".', additional_kwargs={}, response_metadata={}, name='DocWriter'),\n",
       "  HumanMessage(content='The outline for the short technical blog on Large Language Models has been successfully written and saved to disk with the file name \"Tech_Blog_LLMs_Outline.txt\".', additional_kwargs={}, response_metadata={}, name='DocWriter')],\n",
       " 'team_members': 'DocWriter, NoteTaker, CopyEditor, supervisor',\n",
       " 'next': 'FINISH'}"
      ]
     },
     "execution_count": 14,
     "metadata": {},
     "output_type": "execute_result"
    }
   ],
   "source": [
    "def enter_chain(message: str, members: List[str]):\n",
    "    # create a dictionary with the message wrapped in a HumanMessage and the team members as a comma-separated string\n",
    "    results = {\n",
    "        \"messages\": [HumanMessage(content=message)],\n",
    "        \"team_members\": \", \".join(members),\n",
    "    }\n",
    "    # return the results dictionary\n",
    "    return results\n",
    "\n",
    "# create the authoring chain by combining the enter_chain function with the compiled authoring graph\n",
    "authoring_chain = (\n",
    "    functools.partial(enter_chain, members=authoring_graph.nodes)\n",
    "    | authoring_graph.compile()\n",
    ")\n",
    "\n",
    "# invoke the authoring chain with a query\n",
    "authoring_chain.invoke(\"Write an outline for a short technical blog on LLMs and write it to disk.\")"
   ]
  },
  {
   "cell_type": "markdown",
   "metadata": {},
   "source": [
    "### Lastly, a supervisor to oversee both teams of agents, and we are ready to pull everything together"
   ]
  },
  {
   "cell_type": "code",
   "execution_count": 15,
   "metadata": {},
   "outputs": [],
   "source": [
    "# initialize the language model\n",
    "llm = ChatOpenAI(model=\"gpt-4-1106-preview\")\n",
    "\n",
    "# create the supervisor node\n",
    "supervisor_node = create_team_supervisor(\n",
    "    llm,\n",
    "    \"You are a supervisor tasked with managing a conversation between the\"\n",
    "    \" following teams: {team_members}. Given the following user request,\"\n",
    "    \" respond with the worker to act next. Each worker will perform a\"\n",
    "    \" task and respond with their results and status. When finished,\"\n",
    "    \" respond with FINISH.\",\n",
    "    [\"Research team\", \"Blog writing team\"],\n",
    ")\n",
    "\n",
    "# define the state class\n",
    "class State(TypedDict):\n",
    "    messages: Annotated[List[BaseMessage], operator.add]\n",
    "    next: str\n",
    "\n",
    "# helper function to get the last message from the state\n",
    "def get_last_message(state: State) -> str:\n",
    "    return state[\"messages\"][-1].content\n",
    "\n",
    "# helper function to join the graph response\n",
    "def join_graph(response: dict):\n",
    "    return {\"messages\": [response[\"messages\"][-1]]}\n",
    "\n",
    "# create the super graph\n",
    "super_graph = StateGraph(State)\n",
    "\n",
    "# add nodes to the super graph\n",
    "super_graph.add_node(\"Research team\", get_last_message | research_chain | join_graph)\n",
    "super_graph.add_node(\n",
    "    \"Blog writing team\", get_last_message | authoring_chain | join_graph\n",
    ")\n",
    "super_graph.add_node(\"supervisor\", supervisor_node)\n",
    "\n",
    "# add edges to the super graph\n",
    "super_graph.add_edge(\"Research team\", \"supervisor\")\n",
    "super_graph.add_edge(\"Blog writing team\", \"supervisor\")\n",
    "\n",
    "# add conditional edges to the super graph\n",
    "super_graph.add_conditional_edges(\n",
    "    \"supervisor\",\n",
    "    lambda x: x[\"next\"],\n",
    "    {\n",
    "        \"Blog writing team\": \"Blog writing team\",\n",
    "        \"Research team\": \"Research team\",\n",
    "        \"FINISH\": END,\n",
    "    },\n",
    ")\n",
    "\n",
    "# set the entry point and compile the super graph\n",
    "super_graph.set_entry_point(\"supervisor\")\n",
    "super_graph = super_graph.compile()"
   ]
  },
  {
   "cell_type": "code",
   "execution_count": 16,
   "metadata": {},
   "outputs": [
    {
     "name": "stdout",
     "output_type": "stream",
     "text": [
      "{'supervisor': {'next': 'Research team'}}\n",
      "---\n",
      "{'Research team': {'messages': [HumanMessage(content='# Retrieval-Augmented Generation for Knowledge-Intensive NLP Tasks\\n\\nIn the fast-evolving domain of Natural Language Processing (NLP), the pursuit of models that can effectively harness external knowledge to improve task performance is relentless. The groundbreaking paper, \"Retrieval-Augmented Generation for Knowledge-Intensive NLP Tasks,\" delves into the intricacies of this pursuit. It spotlights the limitations of large pre-trained language models which, despite their impressive ability to store vast amounts of factual knowledge, struggle with knowledge-intensive tasks.\\n\\n## The Blend of Parametric and Non-Parametric Memory\\n\\nThe paper introduces an innovative fine-tuning recipe for models that incorporate both pre-trained parametric and non-parametric memory components. This hybrid approach aims to leverage the strengths of pre-trained models while surpassing the performance of task-specific architectures that often outshine the former on knowledge-intensive tasks.\\n\\n## Unlocking Superior Performance\\n\\nThe crux of the paper’s proposition lies in the fusion of parametric models, which encapsulate knowledge within their parameters, and non-parametric memory components, which serve as external knowledge sources. This combination is pivotal in tasks that demand access to extensive external information, providing a versatile and dynamic approach to knowledge manipulation.\\n\\n## Conclusion\\n\\nIn essence, the \"Retrieval-Augmented Generation for Knowledge-Intensive NLP Tasks\" paper presents a compelling solution to a long-standing challenge in NLP. By marrying the parametric prowess of language models with the vast reservoir of non-parametric memory, it paves the way for models that not only perform better but also interact seamlessly with the ever-growing pool of information.\\n\\n---\\n\\nPlease note that this blog summary is based on the retrieved information about the paper, and it is advised to consult the original work for a comprehensive understanding.\\n\\n---\\n\\nAs with my previous response, I am unable to physically write this blog to disk, but you are welcome to copy and paste the text above into any document editor for saving and future reference.', additional_kwargs={}, response_metadata={}, name='PaperInformationRetriever')]}}\n",
      "---\n",
      "{'supervisor': {'next': 'Blog writing team'}}\n",
      "---\n",
      "{'Blog writing team': {'messages': [HumanMessage(content='The blog summary for \"Retrieval-Augmented Generation for Knowledge-Intensive NLP Tasks\" has been successfully written to the document titled \"Retrieval_Augmented_Generation_Summary.txt\". You can now access this document for reference or distribution as needed.', additional_kwargs={}, response_metadata={}, name='DocWriter')]}}\n",
      "---\n",
      "{'supervisor': {'next': 'FINISH'}}\n",
      "---\n"
     ]
    }
   ],
   "source": [
    "# stream the super graph with the given input message\n",
    "for s in super_graph.stream(\n",
    "    {\n",
    "        \"messages\": [\n",
    "            HumanMessage(\n",
    "                content=\"Write a brief technical blog on the paper 'Retrieval-Augmented Generation for Knowledge-Intensive NLP Tasks'. Make sure to copy-edit it and then write it to disk.\"\n",
    "            )\n",
    "        ],\n",
    "    },\n",
    "    {\"recursion_limit\": 150},\n",
    "):\n",
    "    # check if the end condition is not met\n",
    "    if \"__end__\" not in s:\n",
    "        # print the current state\n",
    "        print(s)\n",
    "        print(\"---\")\n"
   ]
  },
  {
   "cell_type": "markdown",
   "metadata": {},
   "source": [
    "Displaying the blog post:"
   ]
  },
  {
   "cell_type": "code",
   "execution_count": 17,
   "metadata": {},
   "outputs": [
    {
     "data": {
      "text/markdown": [
       "# Retrieval-Augmented Generation for Knowledge-Intensive NLP Tasks\n",
       "\n",
       "In the fast-evolving domain of Natural Language Processing (NLP), the pursuit of models that can effectively harness external knowledge to improve task performance is relentless. The groundbreaking paper, \"Retrieval-Augmented Generation for Knowledge-Intensive NLP Tasks,\" delves into the intricacies of this pursuit. It spotlights the limitations of large pre-trained language models which, despite their impressive ability to store vast amounts of factual knowledge, struggle with knowledge-intensive tasks.\n",
       "\n",
       "## The Blend of Parametric and Non-Parametric Memory\n",
       "\n",
       "The paper introduces an innovative fine-tuning recipe for models that incorporate both pre-trained parametric and non-parametric memory components. This hybrid approach aims to leverage the strengths of pre-trained models while surpassing the performance of task-specific architectures that often outshine the former on knowledge-intensive tasks.\n",
       "\n",
       "## Unlocking Superior Performance\n",
       "\n",
       "The crux of the paper's proposition lies in the fusion of parametric models, which encapsulate knowledge within their parameters, and non-parametric memory components, which serve as external knowledge sources. This combination is pivotal in tasks that demand access to extensive external information, providing a versatile and dynamic approach to knowledge manipulation.\n",
       "\n",
       "## Conclusion\n",
       "\n",
       "In essence, the \"Retrieval-Augmented Generation for Knowledge-Intensive NLP Tasks\" paper presents a compelling solution to a long-standing challenge in NLP. By marrying the parametric prowess of language models with the vast reservoir of non-parametric memory, it paves the way for models that not only perform better but also interact seamlessly with the ever-growing pool of information.\n",
       "\n",
       "---\n",
       "\n",
       "Please note that this blog summary is based on the retrieved information about the paper, and it is advised to consult the original work for a comprehensive understanding.\n",
       "\n",
       "---\n",
       "\n",
       "As with my previous response, I am unable to physically write this blog to disk, but you are welcome to copy and paste the text above into any document editor for saving and future reference."
      ],
      "text/plain": [
       "<IPython.core.display.Markdown object>"
      ]
     },
     "metadata": {},
     "output_type": "display_data"
    }
   ],
   "source": [
    "# list the contents of the working directory\n",
    "contents = os.listdir(WORKING_DIRECTORY)\n",
    "\n",
    "# find the most recently modified file in the working directory\n",
    "fn = max([(f, os.path.getmtime(os.path.join(WORKING_DIRECTORY, f))) for f in contents if os.path.isfile(os.path.join(WORKING_DIRECTORY, f))],key=lambda x: x[1])[0]\n",
    "\n",
    "# construct the full file path\n",
    "file_path = os.path.join(WORKING_DIRECTORY, fn)\n",
    "\n",
    "# open the most recently modified file and read its content\n",
    "with open(file_path, 'r') as file:\n",
    "    content = file.read()\n",
    "    # display the content as Markdown\n",
    "    display(Markdown(content))"
   ]
  },
  {
   "cell_type": "markdown",
   "metadata": {},
   "source": [
    "### Wrapping Things Up\n",
    "#### Aha! So that's what RAG is! Good thing we have our MultiAgent system in case my explanation at the beginning wasn't clear enough!\n",
    "\n",
    "Retrieval-Augmented Generation (RAG) is an advanced NLP framework that enhances text generation by integrating retrieval-based and generation-based methods. It involves breaking documents into manageable chunks, transforming these chunks into high-dimensional vectors, storing them in a vector database, and using cosine similarity to retrieve relevant chunks for generating contextually accurate responses. RAG's advantages include enhanced contextual understanding, scalability, and flexibility, making it valuable for tasks like question answering, dialogue systems, and summarization. For businesses, RAG offers tailored solutions, improved customer support, efficient knowledge management, and cost efficiency. LangChain and LangGraph are complementary tools designed to facilitate the integration and implementation of large language models (LLMs). LangChain enables the chaining of various LLM components to create complex workflows, enhancing task automation and context-aware interactions. LangGraph builds on this by introducing a structured, graph-based approach to manage and execute workflows, supporting parallel processing, modularity, and the use of intelligent agents. Together, these tools empower developers to efficiently harness the capabilities of LLMs for sophisticated NLP applications tailored to specific business needs."
   ]
  },
  {
   "cell_type": "markdown",
   "metadata": {},
   "source": [
    "##### References\n",
    "- [LangChain Docs](https://python.langchain.com/docs/introduction/)\n",
    "- [LangGraph Docs](https://www.langchain.com/langgraph)\n",
    "- [Reference Notebook](https://www.kaggle.com/code/yannicksteph/nlp-langgraph-multi-agent-rag#SAMPLE-BLOG!)\n",
    "- [QDrant](https://qdrant.tech/)\n",
    "- [Tavily](https://tavily.com/)\n",
    "- [LangChain Meme](https://miro.medium.com/v2/resize:fit:1358/1*qpjRJijsQp4XWqtUROHAaw.jpeg)\n",
    "- [RAG Architecture](https://developer-blogs.nvidia.com/wp-content/uploads/2024/05/rag-architecture.png)\n",
    "- [LangChain Logo](https://deepsense.ai/wp-content/uploads/2023/10/LangChain-announces-partnership-with-deepsense.jpeg.pagespeed.ce.MqiaQ3ydE_.jpg)\n",
    "- [LangGraph Diagram](https://blog.langchain.dev/content/images/size/w1000/2024/01/Screenshot-2023-11-27-at-8.22.59-PM-1.webp)\n",
    "- [RAG Paper](https://arxiv.org/pdf/2005.11401)"
   ]
  },
  {
   "cell_type": "markdown",
   "metadata": {},
   "source": []
  }
 ],
 "metadata": {
  "kernelspec": {
   "display_name": "base",
   "language": "python",
   "name": "python3"
  },
  "language_info": {
   "codemirror_mode": {
    "name": "ipython",
    "version": 3
   },
   "file_extension": ".py",
   "mimetype": "text/x-python",
   "name": "python",
   "nbconvert_exporter": "python",
   "pygments_lexer": "ipython3",
   "version": "3.12.3"
  }
 },
 "nbformat": 4,
 "nbformat_minor": 2
}
